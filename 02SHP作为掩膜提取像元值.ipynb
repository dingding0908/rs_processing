{
 "cells": [
  {
   "cell_type": "code",
   "execution_count": 2,
   "metadata": {
    "collapsed": true
   },
   "outputs": [],
   "source": [
    "#获取训练集\n",
    "import geopandas as gpd\n",
    "import rasterio as rio\n",
    "from shapely.geometry import mapping\n",
    "import numpy as np\n",
    "from rasterio.mask import mask"
   ]
  },
  {
   "cell_type": "code",
   "execution_count": null,
   "outputs": [],
   "source": [
    "#获取训练集\n",
    "import geopandas as gpd\n",
    "import rasterio as rio\n",
    "from shapely.geometry import mapping\n",
    "import numpy as np\n",
    "from rasterio.mask import mask\n",
    "\n",
    "\n",
    "def get_train_data(in_raster, in_shp, attr='Id'):\n",
    "    \"\"\"获取训练数据集及其标签\"\"\"\n",
    "    shp_df = gpd.GeoDataFrame.from_file(in_shp)\n",
    "    with rio.open(in_raster) as src:\n",
    "        band_count = src.count\n",
    "        X = np.array([], dtype=np.int16).reshape(band_count, 0)\n",
    "        y = np.array([], dtype=np.int)\n",
    "        for index, row in shp_df.iterrows():\n",
    "            geo_feature = [mapping(row['geometry'])]\n",
    "            clip_raster = mask(src, geo_feature, crop=True)[0]  # 提取roi\n",
    "            clip_raster_nozero = clip_raster[:, ~np.all(clip_raster == 0, axis=0)]  # 提取非0像元\n",
    "            #\n",
    "            y = np.append(y, [row[attr]] * clip_raster_nozero.shape[1])\n",
    "            X = np.hstack((X, clip_raster_nozero))\n",
    "    return X, y"
   ],
   "metadata": {
    "collapsed": false,
    "pycharm": {
     "name": "#%%\n"
    }
   }
  }
 ],
 "metadata": {
  "kernelspec": {
   "display_name": "Python 3",
   "language": "python",
   "name": "python3"
  },
  "language_info": {
   "codemirror_mode": {
    "name": "ipython",
    "version": 2
   },
   "file_extension": ".py",
   "mimetype": "text/x-python",
   "name": "python",
   "nbconvert_exporter": "python",
   "pygments_lexer": "ipython2",
   "version": "2.7.6"
  }
 },
 "nbformat": 4,
 "nbformat_minor": 0
}