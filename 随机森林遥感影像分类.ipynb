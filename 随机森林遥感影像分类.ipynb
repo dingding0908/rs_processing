{
 "cells": [
  {
   "cell_type": "code",
   "execution_count": 1,
   "metadata": {
    "collapsed": true
   },
   "outputs": [],
   "source": [
    "# 参考链接：https://zhuanlan.zhihu.com/p/114069998"
   ]
  },
  {
   "cell_type": "code",
   "execution_count": null,
   "outputs": [],
   "source": [
    "# 随机森林监督分类实现思路\n",
    "# 1 绘制监督分类标本SHP格式\n",
    "#   2 将SHP格式标本转化为栅格格式\n",
    "#   3 获取标本下对应的多波段像元值，导出为TXT格式数据\n",
    "# 2 pandas读取TXT数据，制作训练样本\n",
    "# 3 sklearn RF分类算法 训练导出模型\n",
    "# 4 利用模型导出分类结果"
   ],
   "metadata": {
    "collapsed": false,
    "pycharm": {
     "name": "#%%\n"
    }
   }
  },
  {
   "cell_type": "code",
   "execution_count": null,
   "outputs": [],
   "source": [
    "# 本次案例以哨兵2影像为例"
   ],
   "metadata": {
    "collapsed": false,
    "pycharm": {
     "name": "#%%\n"
    }
   }
  },
  {
   "cell_type": "code",
   "execution_count": 9,
   "outputs": [
    {
     "data": {
      "text/plain": "(4841, 6368)"
     },
     "execution_count": 9,
     "metadata": {},
     "output_type": "execute_result"
    }
   ],
   "source": [
    "import gdal\n",
    "import os\n",
    "import random\n",
    "\n",
    "\n",
    "#读取tif数据集\n",
    "def readTif(fileName):\n",
    "    dataset = gdal.Open(fileName)\n",
    "    if dataset == None:\n",
    "        print(fileName + \"文件无法打开\")\n",
    "    return dataset\n",
    "\n",
    "\n",
    "Landset_Path = r\"E:\\Desktop\\Summary\\rs_processing\\datas\\2022-05-09_4074_S2DL.tif\"\n",
    "LabelPath = r\"E:\\Desktop\\Summary\\rs_processing\\datas\\Sample\\Feature_shp21.tif\"\n",
    "txt_Path = r\"E:\\Desktop\\Summary\\rs_processing\\datas\\Sample\\data.txt\"\n",
    "\n",
    "##########################################################  读取图像数据\n",
    "dataset = readTif(Landset_Path)\n",
    "Tif_width = dataset.RasterXSize  #栅格矩阵的列数\n",
    "Tif_height = dataset.RasterYSize  #栅格矩阵的行数\n",
    "Tif_bands = dataset.RasterCount  #波段数\n",
    "Tif_geotrans = dataset.GetGeoTransform()  #获取仿射矩阵信息\n",
    "Landset_data = dataset.ReadAsArray(0, 0, Tif_width, Tif_height)\n",
    "dataset = readTif(LabelPath)\n",
    "Label_data = dataset.ReadAsArray()"
   ],
   "metadata": {
    "collapsed": false,
    "pycharm": {
     "name": "#%%\n"
    }
   }
  },
  {
   "cell_type": "code",
   "execution_count": null,
   "outputs": [],
   "source": [
    "# 写之前，先检验文件是否存在，存在就删掉\n",
    "if os.path.exists(txt_Path):\n",
    "    os.remove(txt_Path)\n",
    "# 以写的方式打开文件，如果文件不存在，就会自动创建\n",
    "file_write_obj = open(txt_Path, 'w')\n",
    "\n",
    "####################################################首先收集植被类别样本，\n",
    "####################################################遍历所有像素值，\n",
    "####################################################为植被的像元全部收集。\n",
    "count = 0\n",
    "for i in range(Label_data.shape[0]):\n",
    "    for j in range(Label_data.shape[1]):\n",
    "        #  我设置的植被类别在标签图中像元值为1\n",
    "        if (Label_data[i][j] == 1):\n",
    "            var = \"\"\n",
    "            for k in range(Landset_data.shape[0]):\n",
    "                var = var + str(Landset_data[k][i][j]) + \",\"\n",
    "            var = var + \"Vegetation\"\n",
    "            file_write_obj.writelines(var)\n",
    "            file_write_obj.write('\\n')\n",
    "            count = count + 1\n",
    "\n",
    "####################################################其次收集非植被类别样本，\n",
    "####################################################因为非植被样本比植被样本多很多，\n",
    "####################################################所以采用在所有非植被类别中随机选择非植被样本，\n",
    "####################################################数量与植被样本数量保持一致。\n",
    "Threshold = count\n",
    "count = 0\n",
    "for i in range(10000000000):\n",
    "    X_random = random.randint(0, Label_data.shape[0] - 1)\n",
    "    Y_random = random.randint(0, Label_data.shape[1] - 1)\n",
    "    #  我设置的非植被类别在标签图中像元值为0\n",
    "    if (Label_data[X_random][Y_random] == 0):\n",
    "        var = \"\"\n",
    "        for k in range(Landset_data.shape[0]):\n",
    "            var = var + str(Landset_data[k][X_random][Y_random]) + \",\"\n",
    "        var = var + \"Non-Vegetation\"\n",
    "        file_write_obj.writelines(var)\n",
    "        file_write_obj.write('\\n')\n",
    "        count = count + 1\n",
    "    if (count == Threshold):\n",
    "        break\n",
    "\n",
    "file_write_obj.close()"
   ],
   "metadata": {
    "collapsed": false,
    "pycharm": {
     "name": "#%%\n",
     "is_executing": true
    }
   }
  },
  {
   "cell_type": "code",
   "execution_count": null,
   "outputs": [],
   "source": [
    "import gdal\n",
    "import os\n",
    "import random\n",
    "\n",
    "\n",
    "#读取tif数据集\n",
    "def readTif(fileName):\n",
    "    dataset = gdal.Open(fileName)\n",
    "    if dataset == None:\n",
    "        print(fileName + \"文件无法打开\")\n",
    "    return dataset\n",
    "\n",
    "\n",
    "Landset_Path = r\"E:\\Desktop\\Summary\\rs_processing\\datas\\2022-05-09_4074_S2DL.tif\"\n",
    "LabelPath = r\"D:\\label.tif\"\n",
    "txt_Path = r\"D:\\data.txt\"\n",
    "\n",
    "##########################################################  读取图像数据\n",
    "dataset = readTif(Landset_Path)\n",
    "Tif_width = dataset.RasterXSize  #栅格矩阵的列数\n",
    "Tif_height = dataset.RasterYSize  #栅格矩阵的行数\n",
    "Tif_bands = dataset.RasterCount  #波段数\n",
    "Tif_geotrans = dataset.GetGeoTransform()  #获取仿射矩阵信息\n",
    "Landset_data = dataset.ReadAsArray(0, 0, Tif_width, Tif_height)\n",
    "dataset = readTif(LabelPath)\n",
    "Label_data = dataset.ReadAsArray(0, 0, Tif_width, Tif_height)\n",
    "\n",
    "# 写之前，先检验文件是否存在，存在就删掉\n",
    "if os.path.exists(txt_Path):\n",
    "    os.remove(txt_Path)\n",
    "# 以写的方式打开文件，如果文件不存在，就会自动创建\n",
    "file_write_obj = open(txt_Path, 'w')\n",
    "\n",
    "####################################################首先收集植被类别样本，\n",
    "####################################################遍历所有像素值，\n",
    "####################################################为植被的像元全部收集。\n",
    "count = 0\n",
    "for i in range(Label_data.shape[0]):\n",
    "    for j in range(Label_data.shape[1]):\n",
    "        #  我设置的植被类别在标签图中像元值为1\n",
    "        if (Label_data[i][j] == 1):\n",
    "            var = \"\"\n",
    "            for k in range(Landset_data.shape[0]):\n",
    "                var = var + str(Landset_data[k][i][j]) + \",\"\n",
    "            var = var + \"Vegetation\"\n",
    "            file_write_obj.writelines(var)\n",
    "            file_write_obj.write('\\n')\n",
    "            count = count + 1\n",
    "\n",
    "####################################################其次收集非植被类别样本，\n",
    "####################################################因为非植被样本比植被样本多很多，\n",
    "####################################################所以采用在所有非植被类别中随机选择非植被样本，\n",
    "####################################################数量与植被样本数量保持一致。\n",
    "Threshold = count\n",
    "count = 0\n",
    "for i in range(10000000000):\n",
    "    X_random = random.randint(0, Label_data.shape[0] - 1)\n",
    "    Y_random = random.randint(0, Label_data.shape[1] - 1)\n",
    "    #  我设置的非植被类别在标签图中像元值为0\n",
    "    if (Label_data[X_random][Y_random] == 0):\n",
    "        var = \"\"\n",
    "        for k in range(Landset_data.shape[0]):\n",
    "            var = var + str(Landset_data[k][X_random][Y_random]) + \",\"\n",
    "        var = var + \"Non-Vegetation\"\n",
    "        file_write_obj.writelines(var)\n",
    "        file_write_obj.write('\\n')\n",
    "        count = count + 1\n",
    "    if (count == Threshold):\n",
    "        break\n",
    "\n",
    "file_write_obj.close()"
   ],
   "metadata": {
    "collapsed": false,
    "pycharm": {
     "name": "#%%\n"
    }
   }
  },
  {
   "cell_type": "code",
   "execution_count": null,
   "outputs": [],
   "source": [
    "import gdal\n",
    "import os\n",
    "import random\n",
    "\n",
    "#读取tif数据集\n",
    "def readTif(fileName):\n",
    "    dataset = gdal.Open(fileName)\n",
    "    if dataset == None:\n",
    "        print(fileName+\"文件无法打开\")\n",
    "    return dataset\n",
    "\n",
    "\n",
    "Landset_Path = r\"D:\\ROI.tif\"\n",
    "LabelPath = r\"D:\\label.tif\"\n",
    "txt_Path = r\"D:\\data.txt\"\n",
    "\n",
    "##########################################################  读取图像数据\n",
    "dataset = readTif(Landset_Path)\n",
    "Tif_width = dataset.RasterXSize #栅格矩阵的列数\n",
    "Tif_height = dataset.RasterYSize #栅格矩阵的行数\n",
    "Tif_bands = dataset.RasterCount #波段数\n",
    "Tif_geotrans = dataset.GetGeoTransform()#获取仿射矩阵信息\n",
    "Landset_data = dataset.ReadAsArray(0,0,Tif_width,Tif_height)\n",
    "dataset = readTif(LabelPath)\n",
    "Label_data = dataset.ReadAsArray(0,0,Tif_width,Tif_height)\n",
    "\n",
    "\n",
    "# 写之前，先检验文件是否存在，存在就删掉\n",
    "if os.path.exists(txt_Path):\n",
    "    os.remove(txt_Path)\n",
    "# 以写的方式打开文件，如果文件不存在，就会自动创建\n",
    "file_write_obj = open(txt_Path, 'w')\n",
    "\n",
    "####################################################首先收集植被类别样本，\n",
    "####################################################遍历所有像素值，\n",
    "####################################################为植被的像元全部收集。\n",
    "count = 0\n",
    "for i in range(Label_data.shape[0]):\n",
    "    for j in range(Label_data.shape[1]):\n",
    "        #  我设置的植被类别在标签图中像元值为1\n",
    "        if(Label_data[i][j] == 1):\n",
    "            var = \"\"\n",
    "            for k in range(Landset_data.shape[0]):\n",
    "                var = var + str(Landset_data[k][i][j])+\",\"\n",
    "            var = var + \"Vegetation\"\n",
    "            file_write_obj.writelines(var)\n",
    "            file_write_obj.write('\\n')\n",
    "            count = count + 1\n",
    "   \n",
    "####################################################其次收集非植被类别样本，\n",
    "####################################################因为非植被样本比植被样本多很多，\n",
    "####################################################所以采用在所有非植被类别中随机选择非植被样本，\n",
    "####################################################数量与植被样本数量保持一致。\n",
    "Threshold = count\n",
    "count = 0\n",
    "for i in range(10000000000):\n",
    "    X_random = random.randint(0,Label_data.shape[0]-1)\n",
    "    Y_random = random.randint(0,Label_data.shape[1]-1)\n",
    "    #  我设置的非植被类别在标签图中像元值为0\n",
    "    if(Label_data[X_random][Y_random] == 0):\n",
    "        var = \"\"\n",
    "        for k in range(Landset_data.shape[0]):\n",
    "            var = var + str(Landset_data[k][X_random][Y_random])+\",\"\n",
    "        var = var + \"Non-Vegetation\"\n",
    "        file_write_obj.writelines(var)\n",
    "        file_write_obj.write('\\n')\n",
    "        count = count + 1\n",
    "    if(count == Threshold):\n",
    "        break\n",
    "\n",
    "file_write_obj.close()"
   ],
   "metadata": {
    "collapsed": false,
    "pycharm": {
     "name": "#%%\n"
    }
   }
  }
 ],
 "metadata": {
  "kernelspec": {
   "display_name": "Python 3",
   "language": "python",
   "name": "python3"
  },
  "language_info": {
   "codemirror_mode": {
    "name": "ipython",
    "version": 2
   },
   "file_extension": ".py",
   "mimetype": "text/x-python",
   "name": "python",
   "nbconvert_exporter": "python",
   "pygments_lexer": "ipython2",
   "version": "2.7.6"
  }
 },
 "nbformat": 4,
 "nbformat_minor": 0
}