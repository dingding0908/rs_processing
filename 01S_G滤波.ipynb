{
 "cells": [
  {
   "cell_type": "code",
   "execution_count": null,
   "outputs": [],
   "source": [
    "# 参考链接：https://zhuanlan.zhihu.com/p/133513743"
   ],
   "metadata": {
    "collapsed": false,
    "pycharm": {
     "name": "#%%\n"
    }
   }
  },
  {
   "cell_type": "code",
   "execution_count": null,
   "metadata": {
    "collapsed": true
   },
   "outputs": [],
   "source": [
    "import os\n",
    "import gdal\n",
    "import numpy as np\n",
    "from scipy.signal import savgol_filter\n",
    "\n",
    "\n",
    "#读取tif数据集\n",
    "def readTif(fileName):\n",
    "    dataset = gdal.Open(fileName)\n",
    "    if dataset == None:\n",
    "        print(fileName + \"文件无法打开\")\n",
    "    return dataset\n",
    "\n",
    "\n",
    "#保存tif文件函数\n",
    "def writeTiff(im_data, im_geotrans, im_proj, path):\n",
    "    if 'int8' in im_data.dtype.name:\n",
    "        datatype = gdal.GDT_Byte\n",
    "    elif 'int16' in im_data.dtype.name:\n",
    "        datatype = gdal.GDT_UInt16\n",
    "    else:\n",
    "        datatype = gdal.GDT_Float32\n",
    "    if len(im_data.shape) == 3:\n",
    "        im_bands, im_height, im_width = im_data.shape\n",
    "    elif len(im_data.shape) == 2:\n",
    "        im_data = np.array([im_data])\n",
    "        im_bands, im_height, im_width = im_data.shape\n",
    "    #创建文件\n",
    "    driver = gdal.GetDriverByName(\"GTiff\")\n",
    "    dataset = driver.Create(path, int(im_width), int(im_height), int(im_bands), datatype)\n",
    "    if (dataset != None):\n",
    "        dataset.SetGeoTransform(im_geotrans)  #写入仿射变换参数\n",
    "        dataset.SetProjection(im_proj)  #写入投影\n",
    "    for i in range(im_bands):\n",
    "        dataset.GetRasterBand(i + 1).WriteArray(im_data[i])\n",
    "    del dataset\n"
   ]
  },
  {
   "cell_type": "code",
   "execution_count": null,
   "outputs": [],
   "source": [
    "def SG_filter(tifFolder, suffix):\n",
    "    '''\n",
    "    tifFolder: tif所在文件夹\n",
    "    suffix :生成结果文件名后缀\n",
    "    '''\n",
    "    #  获取文件夹内的文件名\n",
    "    tifNameList = os.listdir(tifFolder)\n",
    "    tifPath = tifFolder + \"/\" + tifNameList[0]\n",
    "    dataset = readTif(tifPath)\n",
    "    width = dataset.RasterXSize  #栅格矩阵的列数\n",
    "    height = dataset.RasterYSize  #栅格矩阵的行数\n",
    "    Tif_geotrans = dataset.GetGeoTransform()\n",
    "    Tif_proj = dataset.GetProjection()\n",
    "    Tif_data = dataset.ReadAsArray(0, 0, width, height)  #获取数据\n",
    "    Tif_datas = np.zeros((len(tifNameList), Tif_data.shape[0], Tif_data.shape[1]))\n",
    "    for i in range(len(tifNameList)):\n",
    "        tifPath = tifFolder + \"/\" + tifNameList[i]\n",
    "        dataset = readTif(tifPath)\n",
    "        Tif_data = dataset.ReadAsArray(0, 0, width, height)  #获取数据\n",
    "        Tif_datas[i] = Tif_data\n",
    "    #  维度切换，便于后面的提取每个像素对应的各个时期值\n",
    "    Tif_datas = Tif_datas.swapaxes(1, 0)\n",
    "    Tif_datas = Tif_datas.swapaxes(1, 2)\n",
    "\n",
    "    SGfilter = np.zeros(Tif_datas.shape)\n",
    "    for i in range(Tif_datas.shape[0]):\n",
    "        for j in range(Tif_datas.shape[1]):\n",
    "            SGfilter[i][j] = savgol_filter(Tif_datas[i][j], window_length=7, polyorder=2)\n",
    "            #  维度切换回去\n",
    "    SGfilter = SGfilter.swapaxes(1, 0)\n",
    "    SGfilter = SGfilter.swapaxes(0, 2)\n",
    "\n",
    "    for i in range(SGfilter.shape[0]):\n",
    "        SavePath = os.path.splitext(tifNameList[i])[0] + suffix + \".tif\"\n",
    "        writeTiff(SGfilter[i], Tif_geotrans, Tif_proj, SavePath)"
   ],
   "metadata": {
    "collapsed": false,
    "pycharm": {
     "name": "#%%\n"
    }
   }
  },
  {
   "cell_type": "code",
   "execution_count": null,
   "outputs": [],
   "source": [
    "SG_filter(r\"E:\\Remote_Sensing_Data\\TVDI\\MOD11A2\\2012tif_SpatialInterpolation\", \"_LSTSGfilter\")"
   ],
   "metadata": {
    "collapsed": false,
    "pycharm": {
     "name": "#%%\n"
    }
   }
  }
 ],
 "metadata": {
  "kernelspec": {
   "display_name": "Python 3",
   "language": "python",
   "name": "python3"
  },
  "language_info": {
   "codemirror_mode": {
    "name": "ipython",
    "version": 2
   },
   "file_extension": ".py",
   "mimetype": "text/x-python",
   "name": "python",
   "nbconvert_exporter": "python",
   "pygments_lexer": "ipython2",
   "version": "2.7.6"
  }
 },
 "nbformat": 4,
 "nbformat_minor": 0
}